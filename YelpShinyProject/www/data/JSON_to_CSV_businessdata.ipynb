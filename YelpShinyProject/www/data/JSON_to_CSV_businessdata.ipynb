{
 "nbformat": 4,
 "nbformat_minor": 2,
 "metadata": {
  "language_info": {
   "name": "python",
   "codemirror_mode": {
    "name": "ipython",
    "version": 3
   },
   "version": "3.7.4-final"
  },
  "orig_nbformat": 2,
  "file_extension": ".py",
  "mimetype": "text/x-python",
  "name": "python",
  "npconvert_exporter": "python",
  "pygments_lexer": "ipython3",
  "version": 3,
  "kernelspec": {
   "name": "python37464bitbaseconda91dbbf8625b14c4eba5821246d855583",
   "display_name": "Python 3.7.4 64-bit ('base': conda)"
  }
 },
 "cells": [
  {
   "cell_type": "code",
   "execution_count": 3,
   "metadata": {},
   "outputs": [
    {
     "output_type": "execute_result",
     "data": {
      "text/plain": "192609"
     },
     "metadata": {},
     "execution_count": 3
    }
   ],
   "source": [
    "import json\n",
    "import csv\n",
    "import sys\n",
    "import pandas as pd\n",
    "import matplotlib.pyplot as plt\n",
    "\n",
    "data = []\n",
    "with open('/Users/vaibhavigaekwad/Desktop/R Shiny Project/yelp-dataset/yelp_academic_dataset_business.json', encoding=\"utf8\") as f:\n",
    "    for line in f:\n",
    "        data.append(json.loads(line))\n",
    "        \n",
    "len(data)"
   ]
  },
  {
   "cell_type": "code",
   "execution_count": 4,
   "metadata": {},
   "outputs": [],
   "source": [
    "businessid = []\n",
    "name = []\n",
    "address = []\n",
    "city = []\n",
    "state = []\n",
    "postalcode = []\n",
    "latitude = []\n",
    "longitude = []\n",
    "stars = []\n",
    "reviewcount = []\n",
    "isopen =[]\n",
    "attributes =[]\n",
    "categories =[]\n",
    "hours = []\n",
    "\n",
    "for entry in range(0, len(data)):     \n",
    "    businessid.append(data[entry]['business_id'])\n",
    "    name.append(data[entry]['name'])\n",
    "    address.append(data[entry]['address'])\n",
    "    city.append(data[entry]['city'])\n",
    "    state.append(data[entry]['state'])\n",
    "    postalcode.append(data[entry]['postal_code'])\n",
    "    latitude.append(data[entry]['latitude'])\n",
    "    longitude.append(data[entry]['longitude'])\n",
    "    stars.append(data[entry]['stars'])\n",
    "    reviewcount.append(data[entry]['review_count'])\n",
    "    isopen.append(data[entry]['is_open'])\n",
    "    attributes.append(data[entry]['attributes'])\n",
    "    categories.append(data[entry]['categories'])\n",
    "    hours.append(data[entry]['hours'])\n",
    "    \n",
    "    \n",
    "data = {'business_id':businessid,'name':name,'address':address,'city':city,'state':state,'postal_code':postalcode, 'latitude':latitude, 'longitude':longitude, 'stars':stars, 'review_count':reviewcount, 'is_open':isopen, 'attributes':attributes, 'categories':categories, 'hours':hours}\n",
    "business_data  = pd.DataFrame(data)"
   ]
  },
  {
   "cell_type": "code",
   "execution_count": 6,
   "metadata": {},
   "outputs": [],
   "source": [
    "business_data.to_csv('business_data.csv')"
   ]
  },
  {
   "cell_type": "code",
   "execution_count": 8,
   "metadata": {},
   "outputs": [
    {
     "output_type": "execute_result",
     "data": {
      "text/plain": "              business_id                             name  \\\n0  1SWheh84yJXfytovILXOAQ       Arizona Biltmore Golf Club   \n1  QXAEGFB4oINsVuTFxEYKFQ       Emerald Chinese Restaurant   \n2  gnKjwL_1w79qoiV3IC_xQQ      Musashi Japanese Restaurant   \n3  xvX2CttrVhyG2z1dFg_0xw  Farmers Insurance - Paul Lorenz   \n4  HhyxOkGAM07SRYtlQ4wMFQ              Queen City Plumbing   \n\n                          address         city state postal_code   latitude  \\\n0     2818 E Camino Acequia Drive      Phoenix    AZ       85016  33.522143   \n1            30 Eglinton Avenue W  Mississauga    ON     L5R 3E7  43.605499   \n2       10110 Johnston Rd, Ste 15    Charlotte    NC       28210  35.092564   \n3   15655 W Roosevelt St, Ste 237     Goodyear    AZ       85338  33.455613   \n4  4209 Stuart Andrew Blvd, Ste F    Charlotte    NC       28217  35.190012   \n\n    longitude  stars  review_count  is_open  \\\n0 -112.018481    3.0             5        0   \n1  -79.652289    2.5           128        1   \n2  -80.859132    4.0           170        1   \n3 -112.395596    5.0             3        1   \n4  -80.887223    4.0             4        1   \n\n                                          attributes  \\\n0                           {'GoodForKids': 'False'}   \n1  {'RestaurantsReservations': 'True', 'GoodForMe...   \n2  {'GoodForKids': 'True', 'NoiseLevel': 'u'avera...   \n3                                               None   \n4  {'BusinessAcceptsBitcoin': 'False', 'ByAppoint...   \n\n                                          categories  \\\n0                                  Golf, Active Life   \n1  Specialty Food, Restaurants, Dim Sum, Imported...   \n2                  Sushi Bars, Restaurants, Japanese   \n3                      Insurance, Financial Services   \n4  Plumbing, Shopping, Local Services, Home Servi...   \n\n                                               hours  \n0                                               None  \n1  {'Monday': '9:0-0:0', 'Tuesday': '9:0-0:0', 'W...  \n2  {'Monday': '17:30-21:30', 'Wednesday': '17:30-...  \n3  {'Monday': '8:0-17:0', 'Tuesday': '8:0-17:0', ...  \n4  {'Monday': '7:0-23:0', 'Tuesday': '7:0-23:0', ...  ",
      "text/html": "<div>\n<style scoped>\n    .dataframe tbody tr th:only-of-type {\n        vertical-align: middle;\n    }\n\n    .dataframe tbody tr th {\n        vertical-align: top;\n    }\n\n    .dataframe thead th {\n        text-align: right;\n    }\n</style>\n<table border=\"1\" class=\"dataframe\">\n  <thead>\n    <tr style=\"text-align: right;\">\n      <th></th>\n      <th>business_id</th>\n      <th>name</th>\n      <th>address</th>\n      <th>city</th>\n      <th>state</th>\n      <th>postal_code</th>\n      <th>latitude</th>\n      <th>longitude</th>\n      <th>stars</th>\n      <th>review_count</th>\n      <th>is_open</th>\n      <th>attributes</th>\n      <th>categories</th>\n      <th>hours</th>\n    </tr>\n  </thead>\n  <tbody>\n    <tr>\n      <td>0</td>\n      <td>1SWheh84yJXfytovILXOAQ</td>\n      <td>Arizona Biltmore Golf Club</td>\n      <td>2818 E Camino Acequia Drive</td>\n      <td>Phoenix</td>\n      <td>AZ</td>\n      <td>85016</td>\n      <td>33.522143</td>\n      <td>-112.018481</td>\n      <td>3.0</td>\n      <td>5</td>\n      <td>0</td>\n      <td>{'GoodForKids': 'False'}</td>\n      <td>Golf, Active Life</td>\n      <td>None</td>\n    </tr>\n    <tr>\n      <td>1</td>\n      <td>QXAEGFB4oINsVuTFxEYKFQ</td>\n      <td>Emerald Chinese Restaurant</td>\n      <td>30 Eglinton Avenue W</td>\n      <td>Mississauga</td>\n      <td>ON</td>\n      <td>L5R 3E7</td>\n      <td>43.605499</td>\n      <td>-79.652289</td>\n      <td>2.5</td>\n      <td>128</td>\n      <td>1</td>\n      <td>{'RestaurantsReservations': 'True', 'GoodForMe...</td>\n      <td>Specialty Food, Restaurants, Dim Sum, Imported...</td>\n      <td>{'Monday': '9:0-0:0', 'Tuesday': '9:0-0:0', 'W...</td>\n    </tr>\n    <tr>\n      <td>2</td>\n      <td>gnKjwL_1w79qoiV3IC_xQQ</td>\n      <td>Musashi Japanese Restaurant</td>\n      <td>10110 Johnston Rd, Ste 15</td>\n      <td>Charlotte</td>\n      <td>NC</td>\n      <td>28210</td>\n      <td>35.092564</td>\n      <td>-80.859132</td>\n      <td>4.0</td>\n      <td>170</td>\n      <td>1</td>\n      <td>{'GoodForKids': 'True', 'NoiseLevel': 'u'avera...</td>\n      <td>Sushi Bars, Restaurants, Japanese</td>\n      <td>{'Monday': '17:30-21:30', 'Wednesday': '17:30-...</td>\n    </tr>\n    <tr>\n      <td>3</td>\n      <td>xvX2CttrVhyG2z1dFg_0xw</td>\n      <td>Farmers Insurance - Paul Lorenz</td>\n      <td>15655 W Roosevelt St, Ste 237</td>\n      <td>Goodyear</td>\n      <td>AZ</td>\n      <td>85338</td>\n      <td>33.455613</td>\n      <td>-112.395596</td>\n      <td>5.0</td>\n      <td>3</td>\n      <td>1</td>\n      <td>None</td>\n      <td>Insurance, Financial Services</td>\n      <td>{'Monday': '8:0-17:0', 'Tuesday': '8:0-17:0', ...</td>\n    </tr>\n    <tr>\n      <td>4</td>\n      <td>HhyxOkGAM07SRYtlQ4wMFQ</td>\n      <td>Queen City Plumbing</td>\n      <td>4209 Stuart Andrew Blvd, Ste F</td>\n      <td>Charlotte</td>\n      <td>NC</td>\n      <td>28217</td>\n      <td>35.190012</td>\n      <td>-80.887223</td>\n      <td>4.0</td>\n      <td>4</td>\n      <td>1</td>\n      <td>{'BusinessAcceptsBitcoin': 'False', 'ByAppoint...</td>\n      <td>Plumbing, Shopping, Local Services, Home Servi...</td>\n      <td>{'Monday': '7:0-23:0', 'Tuesday': '7:0-23:0', ...</td>\n    </tr>\n  </tbody>\n</table>\n</div>"
     },
     "metadata": {},
     "execution_count": 8
    }
   ],
   "source": [
    "business_data.head()"
   ]
  },
  {
   "cell_type": "code",
   "execution_count": null,
   "metadata": {},
   "outputs": [],
   "source": []
  }
 ]
}